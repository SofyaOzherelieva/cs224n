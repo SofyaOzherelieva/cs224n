{
  "nbformat": 4,
  "nbformat_minor": 0,
  "metadata": {
    "colab": {
      "name": "task4_one_matrix.ipynb",
      "version": "0.3.2",
      "provenance": [],
      "collapsed_sections": []
    },
    "kernelspec": {
      "name": "python3",
      "display_name": "Python 3"
    },
    "accelerator": "GPU"
  },
  "cells": [
    {
      "metadata": {
        "id": "Zl9PrCKj2eAk",
        "colab_type": "text"
      },
      "cell_type": "markdown",
      "source": [
        "# Word2vec only with one matrix\n",
        "\n",
        "Choose CBOW/Skip-Gram again. Implement it, but now without second `h_dim x vocab_size` matrix. Remember what was the loss function in Stanford lecture.\n",
        "\n",
        "$$ L = - \\frac{1}{T} \\sum_{t=1}^T \\sum_{-m <= j <= m, j \\ne 0} log P(w_{t}|w_{t+j})$$\n",
        "\n",
        "\n",
        "$$ P(w_i | w_h) = \\frac{exp(s(v_i, v_h))}{\\sum exp(s(v_i, v_w))}$$\n",
        "\n",
        "Where $s(x, y)$ is a similarity function. It is common to use dot-product here $s(x, y) = s^Ty$. The sum in the denominator is across all vocabulary for $P$ to be a probability distribution.\n",
        "\n",
        "Look to this formula closer. There is no projection back to vocabulary dimension in the loss! So, we can reduce the number of parameters by the factor of two by not using the second matrix $W'$. Your new task is to code CBOW / SkipGram with this loss.\n",
        "\n",
        "**Main idea:**\n",
        "\n",
        "We project word vectors to some space. Next, we work with the space itself. We update projection matrix weights so that similar (in the terms of Distributional semantics) words have similar vectors in that space. We don't need to solve classification task explicitly here.\n",
        "\n",
        "**Tip:**\n",
        "\n",
        "Work with matrix operations and not with nn.layers / keras.layers.\n",
        "\n",
        "**Results of this task** (the very same as in task 3):\n",
        " * trained word vectors (mention somewhere, how long it took to train)\n",
        " * plotted loss (so we can see that it has converged)\n",
        " * function to map token to corresponding word vector\n",
        " * beautiful visualizations (PCE, T-SNE), you can use TensorBoard and play with your vectors in 3D (don't forget to add screenshots to the task)\n",
        " * qualitative evaluations of word vectors: nearest neighbors, word analogies\n",
        "\n",
        "\n",
        "**Extra:**\n",
        " * quantitative evaluation:\n",
        "   * for intrinsic evaluation you can find datasets [here](https://aclweb.org/aclwiki/Analogy_(State_of_the_art))\n",
        "   * for extrincis evaluation you can use [these](https://medium.com/@dataturks/rare-text-classification-open-datasets-9d340c8c508e)\n",
        "\n",
        "\n",
        "\n",
        "Supplementary materials:\n",
        "  * [cs224n winter 2017 lecture 2 video](https://www.youtube.com/watch?v=ERibwqs9p38&list=PL3FW7Lu3i5Jsnh1rnUwq_TcylNr7EkRe6&index=2)\n",
        "  * [cs224n winter 2019 lecture 1 slides](http://web.stanford.edu/class/cs224n/slides/cs224n-2019-lecture01-wordvecs1.pdf)"
      ]
    },
    {
      "metadata": {
        "id": "S6VB0tPn2eAm",
        "colab_type": "code",
        "colab": {}
      },
      "cell_type": "code",
      "source": [
        "import torch\n",
        "import torch.nn as nn\n",
        "import torch.optim as optim\n",
        "import torch.nn.functional as F\n",
        "\n",
        "import numpy as np\n",
        "from collections import Counter\n",
        "import itertools\n",
        "import time\n",
        "import matplotlib.pyplot as plt\n",
        "\n",
        "from sklearn.model_selection import train_test_split\n",
        "from sklearn.decomposition import TruncatedSVD"
      ],
      "execution_count": 0,
      "outputs": []
    },
    {
      "metadata": {
        "id": "myFW8s0VWIps",
        "colab_type": "code",
        "colab": {
          "base_uri": "https://localhost:8080/",
          "height": 34
        },
        "outputId": "e582be33-00cb-41dd-e9f9-e77adb3857ee"
      },
      "cell_type": "code",
      "source": [
        "USE_GPU = True\n",
        "if USE_GPU and torch.cuda.is_available():\n",
        "    device = torch.device('cuda')\n",
        "else:\n",
        "    device = torch.device('cpu')\n",
        "\n",
        "print('using device:', device)"
      ],
      "execution_count": 5,
      "outputs": [
        {
          "output_type": "stream",
          "text": [
            "using device: cpu\n"
          ],
          "name": "stdout"
        }
      ]
    },
    {
      "metadata": {
        "id": "QBC5PSnMWKBY",
        "colab_type": "code",
        "colab": {}
      },
      "cell_type": "code",
      "source": [
        "class CBOWBatcher:\n",
        "    def __init__(self, words):\n",
        "        self.words = words\n",
        "        self.vocab_size = len(words)\n",
        "        self.remaining_words = self.words\n",
        "    \n",
        "        self.index_words = []\n",
        "        self.word2index = dict()\n",
        "        self.index2word = dict()\n",
        "        self.window_size = 0\n",
        "        \n",
        "    def delete_rare_words(self, min_frequency = 9):\n",
        "        words_count = Counter(self.words)\n",
        "        \n",
        "        sorted_words_count = sorted(words_count.items(), key=lambda pair: pair[1], reverse=True)\n",
        "\n",
        "        # choose words with frequency > min_frequency\n",
        "        mask = list(map(lambda x: x[1] > min_frequency, sorted_words_count))\n",
        "        sorted_words_count = np.array(sorted_words_count)[mask]\n",
        "\n",
        "        # add __unk__\n",
        "        remaining_words = list(map(lambda x: x[0], sorted_words_count))\n",
        "        remaining_words.append(\"__unk__\")\n",
        "        self.remaining_words = remaining_words\n",
        "        self.vocab_size = len(remaining_words)\n",
        "    \n",
        "    def create_indexing(self):\n",
        "        # numericalization\n",
        "        numbers = np.arange(len(self.remaining_words))\n",
        "\n",
        "        self.word2index = dict(zip(self.remaining_words, numbers))\n",
        "        self.index2word = dict(zip(numbers, self.remaining_words))\n",
        "        # __unk__\n",
        "        for word in self.words:\n",
        "            if word in self.word2index:\n",
        "                self.index_words.append(self.word2index[word])\n",
        "            else:\n",
        "                self.index_words.append(self.word2index[\"__unk__\"])\n",
        "        \n",
        "    def CBOW(self, window_size = 2):\n",
        "        self.window_size = window_size\n",
        "        x_batch = []\n",
        "        labels_batch = []\n",
        "        \n",
        "        for i in np.arange(window_size, len(self.index_words) - window_size):\n",
        "            labels_batch.append(self.index_words[i])\n",
        "            temp_list = self.index_words[i - window_size: i] + self.index_words[i+1: i+window_size+1]\n",
        "            x_batch.append(temp_list)\n",
        "        return x_batch, labels_batch\n",
        "    \n",
        "    def indices_to_words(self, batch):\n",
        "        words_batch = []\n",
        "        shape = np.array(batch).shape\n",
        "        batch_flatten = np.array(batch).flatten()\n",
        "        \n",
        "        for i in batch_flatten:\n",
        "            if i in self.index2word:\n",
        "                words_batch.append(self.index2word[i])\n",
        "            else:\n",
        "                raise Exception(\"Incorrect numericalization: {} in {}\".format(i, batch))\n",
        "                \n",
        "        words_batch = np.array(words_batch).reshape(shape)\n",
        "        return words_batch"
      ],
      "execution_count": 0,
      "outputs": []
    },
    {
      "metadata": {
        "id": "kJ-mtLsTWMW0",
        "colab_type": "code",
        "colab": {
          "base_uri": "https://localhost:8080/",
          "height": 34
        },
        "outputId": "62c07144-c289-48ad-df0a-989d9634c933"
      },
      "cell_type": "code",
      "source": [
        "from google.colab import drive\n",
        "drive.mount('/content/drive/')"
      ],
      "execution_count": 7,
      "outputs": [
        {
          "output_type": "stream",
          "text": [
            "Drive already mounted at /content/drive/; to attempt to forcibly remount, call drive.mount(\"/content/drive/\", force_remount=True).\n"
          ],
          "name": "stdout"
        }
      ]
    },
    {
      "metadata": {
        "id": "KphsB0yPWOQe",
        "colab_type": "code",
        "colab": {}
      },
      "cell_type": "code",
      "source": [
        "text_file = open(\"/content/drive/My Drive/text8\", \"r\")\n",
        "words = text_file.read().split(' ')\n",
        "test = words[:20000]\n",
        "\n",
        "batcher = CBOWBatcher(test)\n",
        "batcher.delete_rare_words(3)\n",
        "batcher.create_indexing()\n",
        "y = batcher.CBOW()"
      ],
      "execution_count": 0,
      "outputs": []
    },
    {
      "metadata": {
        "id": "PsDA_BRvgH1b",
        "colab_type": "code",
        "colab": {}
      },
      "cell_type": "code",
      "source": [
        "def random_weight(shape):\n",
        "    \"\"\"\n",
        "    Create random Tensors for weights; setting requires_grad=True means that we\n",
        "    want to compute gradients for these Tensors during the backward pass.\n",
        "    We use Kaiming normalization: sqrt(2 / fan_in)\n",
        "    \"\"\"\n",
        "    if len(shape) == 2:  # FC weight\n",
        "        fan_in = shape[0]\n",
        "    else:\n",
        "        fan_in = np.prod(shape[1:]) # conv weight [out_channel, in_channel, kH, kW]\n",
        "    # randn is standard normal distribution generator. \n",
        "    w = torch.randn(shape, device=device, dtype=torch.float32) * np.sqrt(2. / fan_in)\n",
        "    w.requires_grad = True\n",
        "    return w"
      ],
      "execution_count": 0,
      "outputs": []
    },
    {
      "metadata": {
        "id": "KhqFdPWtX-J4",
        "colab_type": "code",
        "colab": {}
      },
      "cell_type": "code",
      "source": [
        "def CBOW(context, w):\n",
        "    x = context.sum(dim = 0, dtype = torch.float32)\n",
        "    x = x.reshape((-1, 1))\n",
        "    x = torch.mm(w, x)\n",
        "    x = x.reshape((1, -1))\n",
        "    x = torch.mm(x, w)\n",
        "    return x\n",
        "\n",
        "\n",
        "def test_CBOW(w):\n",
        "    x = torch.tensor([[0, 0, 0, 0, 1, 0], [0, 0, 0, 1, 0, 0]], dtype = torch.float32)\n",
        "    x = x.to(device=device, dtype=torch.float32)\n",
        "    scores = CBOW(x, w)\n",
        "    print(scores)\n",
        "    \n",
        "#test_CBOW(w)"
      ],
      "execution_count": 0,
      "outputs": []
    },
    {
      "metadata": {
        "id": "aY7hqAUiWP8R",
        "colab_type": "code",
        "colab": {}
      },
      "cell_type": "code",
      "source": [
        "def oneHot_generate(batches, labels, vocab_size):\n",
        "    for batch, label in zip(batches, labels):\n",
        "        batch = np.array(batch)\n",
        "        oneHot_batch = np.zeros((batch.shape[0], vocab_size))\n",
        "        oneHot_batch[np.arange(batch.shape[0]), batch] = 1\n",
        "\n",
        "        oneHot_label = np.zeros((vocab_size))\n",
        "        oneHot_label[label] = 1\n",
        "        yield (oneHot_batch, label)"
      ],
      "execution_count": 0,
      "outputs": []
    },
    {
      "metadata": {
        "id": "X8zWccZ7YAdC",
        "colab_type": "code",
        "colab": {}
      },
      "cell_type": "code",
      "source": [
        "def train(w, lr, contexts, labels, epochs=1):\n",
        "    \n",
        "    loss_list = []\n",
        "    for e in range(epochs):\n",
        "        for t, (context, label) in enumerate(oneHot_generate(contexts, labels, batcher.vocab_size)):\n",
        "          \n",
        "\n",
        "            x = torch.tensor(context, dtype=torch.float32) \n",
        "            y = torch.tensor([label], dtype=torch.float32)\n",
        "            \n",
        "            x = x.to(device=device, dtype=torch.float32)\n",
        "            y = y.to(device=device, dtype=torch.float32)\n",
        "\n",
        "            scores = CBOW(x, w)\n",
        "            cw = torch.mm(x, scores.reshape((-1, 1)))\n",
        "            loss = -cw.sum() + 2*batcher.window_size*scores.exp().sum().log()\n",
        "\n",
        "            loss.backward()\n",
        "            \n",
        "            with torch.no_grad():\n",
        "                w -= lr * w.grad\n",
        "                w.grad.zero_()\n",
        "         \n",
        "        loss_list.append(loss.item())\n",
        "\n",
        "        if e % 5 == 0:\n",
        "            print('Epochs %d, loss = %.4f' % (e, loss.item()))\n",
        "            print()\n",
        "    return loss_list"
      ],
      "execution_count": 0,
      "outputs": []
    },
    {
      "metadata": {
        "id": "G4ZtGpxb77G_",
        "colab_type": "code",
        "colab": {
          "base_uri": "https://localhost:8080/",
          "height": 782
        },
        "outputId": "ade674ae-5af9-41f4-c906-8bfd3d9552f0"
      },
      "cell_type": "code",
      "source": [
        "hidden_size = 16\n",
        "w = random_weight((hidden_size, batcher.vocab_size))\n",
        "\n",
        "start = time.perf_counter()\n",
        "lr = 0.001\n",
        "loss_list = train(w, lr, y[0], y[1], epochs=110)\n",
        "print(\"Time = \", time.perf_counter() - start)"
      ],
      "execution_count": 219,
      "outputs": [
        {
          "output_type": "stream",
          "text": [
            "Epochs 0, loss = 2.7011\n",
            "\n",
            "Epochs 5, loss = 2.6655\n",
            "\n",
            "Epochs 10, loss = 2.6383\n",
            "\n",
            "Epochs 15, loss = 2.6038\n",
            "\n",
            "Epochs 20, loss = 2.5742\n",
            "\n",
            "Epochs 25, loss = 2.5507\n",
            "\n",
            "Epochs 30, loss = 2.5323\n",
            "\n",
            "Epochs 35, loss = 2.5181\n",
            "\n",
            "Epochs 40, loss = 2.5070\n",
            "\n",
            "Epochs 45, loss = 2.4979\n",
            "\n",
            "Epochs 50, loss = 2.4903\n",
            "\n",
            "Epochs 55, loss = 2.4843\n",
            "\n",
            "Epochs 60, loss = 2.4798\n",
            "\n",
            "Epochs 65, loss = 2.4767\n",
            "\n",
            "Epochs 70, loss = 2.4750\n",
            "\n",
            "Epochs 75, loss = 2.4742\n",
            "\n",
            "Epochs 80, loss = 2.4743\n",
            "\n",
            "Epochs 85, loss = 2.4748\n",
            "\n",
            "Epochs 90, loss = 2.4757\n",
            "\n",
            "Epochs 95, loss = 2.4768\n",
            "\n",
            "Epochs 100, loss = 2.4779\n",
            "\n",
            "Epochs 105, loss = 2.4790\n",
            "\n",
            "Time =  1471.9854016460013\n"
          ],
          "name": "stdout"
        }
      ]
    },
    {
      "metadata": {
        "id": "gs69sD6s8bUh",
        "colab_type": "code",
        "colab": {
          "base_uri": "https://localhost:8080/",
          "height": 347
        },
        "outputId": "538c908f-9a73-4e35-bf54-c10bd2d2e3d2"
      },
      "cell_type": "code",
      "source": [
        "plt.plot(loss_list)\n",
        "plt.show()"
      ],
      "execution_count": 220,
      "outputs": [
        {
          "output_type": "display_data",
          "data": {
            "image/png": "[encoded data removed]",
            "text/plain": [
              "<Figure size 576x396 with 1 Axes>"
            ]
          },
          "metadata": {
            "tags": []
          }
        }
      ]
    },
    {
      "metadata": {
        "id": "-0PgPjmVeQ-7",
        "colab_type": "text"
      },
      "cell_type": "markdown",
      "source": [
        "Loss has converged. Time: 24 min on 20000 words"
      ]
    },
    {
      "metadata": {
        "id": "Cxb88s-HlT51",
        "colab_type": "text"
      },
      "cell_type": "markdown",
      "source": [
        "Map token to corresponding word vector:"
      ]
    },
    {
      "metadata": {
        "id": "mXKwgkYA-P7M",
        "colab_type": "code",
        "colab": {}
      },
      "cell_type": "code",
      "source": [
        "w = w.detach().numpy().T"
      ],
      "execution_count": 0,
      "outputs": []
    },
    {
      "metadata": {
        "id": "xqhwq6dOPfYq",
        "colab_type": "code",
        "colab": {}
      },
      "cell_type": "code",
      "source": [
        "def index2vector(word_index):\n",
        "    return w[word_index]"
      ],
      "execution_count": 0,
      "outputs": []
    },
    {
      "metadata": {
        "id": "rmU5xrEeVkTU",
        "colab_type": "code",
        "colab": {}
      },
      "cell_type": "code",
      "source": [
        "def word2vector(word):\n",
        "    return w[batcher.word2index[word]]"
      ],
      "execution_count": 0,
      "outputs": []
    },
    {
      "metadata": {
        "id": "3TPbxLkVlWyx",
        "colab_type": "text"
      },
      "cell_type": "markdown",
      "source": [
        "### Visualization:"
      ]
    },
    {
      "metadata": {
        "id": "CbzFDex2-X7R",
        "colab_type": "code",
        "colab": {}
      },
      "cell_type": "code",
      "source": [
        "def reduce_to_k_dim(M, k=2):\n",
        "    n_iters = 10     # Use this parameter in your call to `TruncatedSVD`\n",
        "    M_reduced = None\n",
        "    \n",
        "    svd = TruncatedSVD(n_components = k, n_iter = n_iters, random_state=42)\n",
        "    M_reduced = svd.fit_transform(M)\n",
        "    \n",
        "    return M_reduced"
      ],
      "execution_count": 0,
      "outputs": []
    },
    {
      "metadata": {
        "id": "3GoJogGylYjt",
        "colab_type": "code",
        "colab": {
          "base_uri": "https://localhost:8080/",
          "height": 1135
        },
        "outputId": "1a044e87-a81e-4399-b787-b28f187da9c3"
      },
      "cell_type": "code",
      "source": [
        "plt.figure(figsize = (20, 20))\n",
        "w_reduced = reduce_to_k_dim(w)\n",
        "x_list = w_reduced.T[0, :100]\n",
        "y_list = w_reduced.T[1, :100]\n",
        "word_list = np.array(batcher.remaining_words)\n",
        "for x_, y_, word in zip(x_list, y_list, word_list):\n",
        "    plt.scatter(x_, y_)\n",
        "    plt.text(x_, y_, word, fontsize=10)\n",
        "    \n",
        "plt.show()"
      ],
      "execution_count": 238,
      "outputs": [
        {
          "output_type": "display_data",
          "data": {
            "image/png": "[encoded data removed]",
            "text/plain": [
              "<Figure size 1440x1440 with 1 Axes>"
            ]
          },
          "metadata": {
            "tags": []
          }
        }
      ]
    },
    {
      "metadata": {
        "id": "MWB-QVGhe9hi",
        "colab_type": "text"
      },
      "cell_type": "markdown",
      "source": [
        "We can see, that numbers are on the left, but maybe it needs more time or more data to learn for a better result."
      ]
    },
    {
      "metadata": {
        "id": "HvWBD2j3loVh",
        "colab_type": "text"
      },
      "cell_type": "markdown",
      "source": [
        "Qualitative evaluations of word vectors: "
      ]
    },
    {
      "metadata": {
        "id": "06aVgVplKBOQ",
        "colab_type": "code",
        "colab": {}
      },
      "cell_type": "code",
      "source": [
        "def similar_words(word_index, quantity = 10):\n",
        "    similarity = []\n",
        "    \n",
        "    word_v = index2vector(word_index)\n",
        "    for i in range(batcher.vocab_size):\n",
        "        if i != word_index:\n",
        "            curr_v = index2vector(i)\n",
        "            sim = word_v@curr_v\n",
        "            norm = np.sqrt(word_v@word_v)*np.sqrt(curr_v@curr_v)\n",
        "            similarity.append((i, sim/norm))\n",
        "    similarity = sorted(similarity, key=lambda pair: pair[1], reverse=True)[:quantity]\n",
        "    \n",
        "    return similarity\n",
        "    "
      ],
      "execution_count": 0,
      "outputs": []
    },
    {
      "metadata": {
        "id": "k_PPEjAYlq3c",
        "colab_type": "text"
      },
      "cell_type": "markdown",
      "source": [
        "#### Nearest neighbors:"
      ]
    },
    {
      "metadata": {
        "id": "CA1KedSXpxZj",
        "colab_type": "code",
        "colab": {
          "base_uri": "https://localhost:8080/",
          "height": 163
        },
        "outputId": "35fba634-3981-4616-af37-40b57cc9f33d"
      },
      "cell_type": "code",
      "source": [
        "teacher  438, student  207, child 88"
      ],
      "execution_count": 99,
      "outputs": [
        {
          "output_type": "error",
          "ename": "NameError",
          "evalue": "ignored",
          "traceback": [
            "\u001b[0;31m---------------------------------------------------------------------------\u001b[0m",
            "\u001b[0;31mNameError\u001b[0m                                 Traceback (most recent call last)",
            "\u001b[0;32m<ipython-input-99-ca1bf3ea4241>\u001b[0m in \u001b[0;36m<module>\u001b[0;34m()\u001b[0m\n\u001b[0;32m----> 1\u001b[0;31m \u001b[0mteachers\u001b[0m\u001b[0;34m,\u001b[0m \u001b[0mstudents\u001b[0m\u001b[0;34m,\u001b[0m \u001b[0mchildren\u001b[0m\u001b[0;34m\u001b[0m\u001b[0;34m\u001b[0m\u001b[0m\n\u001b[0m",
            "\u001b[0;31mNameError\u001b[0m: name 'teachers' is not defined"
          ]
        }
      ]
    },
    {
      "metadata": {
        "id": "VsbxtwizrO-O",
        "colab_type": "code",
        "colab": {}
      },
      "cell_type": "code",
      "source": [
        "them, they, she, her\n",
        "good, true\n",
        "small, large, human, civilization\n",
        "spanish\n",
        "spain\n",
        "\n",
        "uk\n",
        "english\n",
        "\n",
        "european\n",
        "europe"
      ],
      "execution_count": 0,
      "outputs": []
    },
    {
      "metadata": {
        "id": "1I9Q7GiWM9PB",
        "colab_type": "code",
        "colab": {
          "base_uri": "https://localhost:8080/",
          "height": 221
        },
        "outputId": "0222ea1f-3c12-481e-ea10-8d6e1731fbc9"
      },
      "cell_type": "code",
      "source": [
        "word = batcher.word2index[\"one\"]\n",
        "\n",
        "similarity = similar_words(word)\n",
        "print(\"Word: \", batcher.index2word[word])\n",
        "print(\"Similar words: \")\n",
        "for sim_word in similarity:\n",
        "    print(batcher.index2word[sim_word[0]], sim_word[1])"
      ],
      "execution_count": 253,
      "outputs": [
        {
          "output_type": "stream",
          "text": [
            "Word:  one\n",
            "Similar words: \n",
            "zero 0.7050459\n",
            "eight 0.7004265\n",
            "nine 0.69833976\n",
            "__unk__ 0.64744705\n",
            "six 0.63237727\n",
            "labour 0.62494844\n",
            "on 0.6177452\n",
            "seven 0.6126433\n",
            "may 0.59452695\n",
            "leo 0.5934515\n"
          ],
          "name": "stdout"
        }
      ]
    },
    {
      "metadata": {
        "id": "0FZ7fPbDf8yw",
        "colab_type": "code",
        "colab": {
          "base_uri": "https://localhost:8080/",
          "height": 221
        },
        "outputId": "1ae68809-201e-4684-a0a6-7f933aeed272"
      },
      "cell_type": "code",
      "source": [
        "word = batcher.word2index[\"zero\"]\n",
        "\n",
        "similarity = similar_words(word)\n",
        "print(\"Word: \", batcher.index2word[word])\n",
        "print(\"Similar words: \")\n",
        "for sim_word in similarity:\n",
        "    print(batcher.index2word[sim_word[0]], sim_word[1])"
      ],
      "execution_count": 242,
      "outputs": [
        {
          "output_type": "stream",
          "text": [
            "Word:  zero\n",
            "Similar words: \n",
            "one 0.7050459\n",
            "th 0.6836101\n",
            "two 0.6736223\n",
            "__unk__ 0.67055064\n",
            "six 0.64962256\n",
            "alabama 0.64432836\n",
            "a 0.6348031\n",
            "three 0.6318677\n",
            "continued 0.6313837\n",
            "seven 0.6306365\n"
          ],
          "name": "stdout"
        }
      ]
    },
    {
      "metadata": {
        "id": "hifbu6tUflAq",
        "colab_type": "text"
      },
      "cell_type": "markdown",
      "source": [
        "Quite good at predicting similar words"
      ]
    },
    {
      "metadata": {
        "id": "SlouvMtVeO9i",
        "colab_type": "text"
      },
      "cell_type": "markdown",
      "source": [
        ""
      ]
    },
    {
      "metadata": {
        "id": "a6KxMxDelkmA",
        "colab_type": "text"
      },
      "cell_type": "markdown",
      "source": [
        "#### Word analogies:"
      ]
    },
    {
      "metadata": {
        "id": "VQyURuEalkGi",
        "colab_type": "code",
        "colab": {}
      },
      "cell_type": "code",
      "source": [
        "  def analogy(positive_words, negative_words, quantity = 10):\n",
        "    res_v = np.zeros(shape = index2vector(0).shape)\n",
        "    for word in positive_words:\n",
        "        res_v += word2vector(word)\n",
        "        \n",
        "    for word in negative_words:\n",
        "        res_v -= word2vector(word)\n",
        "        \n",
        "    similarity = []\n",
        "    \n",
        "    for i in range(batcher.vocab_size):\n",
        "        curr_v = index2vector(i)\n",
        "        sim = res_v@curr_v\n",
        "        norm = np.sqrt(res_v@res_v)*np.sqrt(curr_v@curr_v)\n",
        "        similarity.append((i, sim/norm))\n",
        "    similarity = sorted(similarity, key=lambda pair: pair[1], reverse=True)[:quantity]\n",
        "    \n",
        "    return similarity"
      ],
      "execution_count": 0,
      "outputs": []
    },
    {
      "metadata": {
        "id": "SYNCsJ7FS3C9",
        "colab_type": "code",
        "colab": {
          "base_uri": "https://localhost:8080/",
          "height": 187
        },
        "outputId": "531ac442-62bf-4e6a-f217-b196d73a5d28"
      },
      "cell_type": "code",
      "source": [
        "positive_words = [\"people\", \"child\"]\n",
        "negative_words = [\"children\"]\n",
        "similarity = analogy(positive_words, negative_words)\n",
        "for sim_word in similarity:\n",
        "    print(batcher.index2word[sim_word[0]], sim_word[1])"
      ],
      "execution_count": 267,
      "outputs": [
        {
          "output_type": "stream",
          "text": [
            "act 0.7626856485839568\n",
            "violent 0.7209825804907567\n",
            "child 0.6805637957765627\n",
            "system 0.6542200631838346\n",
            "thought 0.6521875917473545\n",
            "article 0.6502539288980677\n",
            "external 0.6441002734807457\n",
            "due 0.6352613741557995\n",
            "arab 0.6267685918900445\n",
            "people 0.5949899291398114\n"
          ],
          "name": "stdout"
        }
      ]
    },
    {
      "metadata": {
        "id": "i_9qk9loonhr",
        "colab_type": "text"
      },
      "cell_type": "markdown",
      "source": [
        "child children\n",
        "\n",
        "people human"
      ]
    },
    {
      "metadata": {
        "id": "pkfluiNKpm54",
        "colab_type": "text"
      },
      "cell_type": "markdown",
      "source": [
        "Unfortunately, the model has not learned to find analogies. It would be better if we trained in on the bigger corpus."
      ]
    },
    {
      "metadata": {
        "id": "CafnY286nkd4",
        "colab_type": "code",
        "colab": {}
      },
      "cell_type": "code",
      "source": [
        ""
      ],
      "execution_count": 0,
      "outputs": []
    }
  ]
}