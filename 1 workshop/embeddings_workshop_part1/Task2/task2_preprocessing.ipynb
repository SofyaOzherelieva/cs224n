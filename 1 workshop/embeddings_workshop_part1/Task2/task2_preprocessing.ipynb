{
 "cells": [
  {
   "cell_type": "markdown",
   "metadata": {},
   "source": [
    "# Word2vec preprocessing"
   ]
  },
  {
   "cell_type": "markdown",
   "metadata": {},
   "source": [
    "Preprocessing is not the most exciting part of NLP, but it is still one of the most important ones. Your task is to preprocess raw text (you can use your own, or [this one](http://mattmahoney.net/dc/text8.zip). For this task text preprocessing mostly consists of:\n",
    "\n",
    "1. cleaning (mostly, if your dataset is from social media or parsed from the internet)\n",
    "1. tokenization\n",
    "1. building the vocabulary and choosing its size. Use only high-frequency words, change all other words to UNK or handle it in your own manner. You can use `collections.Counter` for that.\n",
    "1. assigning each token a number (numericalization). In other words, make word2index и index2word objects.\n",
    "1. data structuring and batching - make X and y matrices generator for word2vec (explained in more details below)\n",
    "\n",
    "**ATTN!:** If you use your own data, please, attach a download link. \n",
    "\n",
    "Your goal is to make SkipGramBatcher class which returns two numpy tensors with word indices. It should be possible to use one for word2vec training. You can implement batcher for Skip-Gram or CBOW architecture, the picture below can be helpful to remember the difference.\n",
    "\n",
    "![text](https://raw.githubusercontent.com/deepmipt/deep-nlp-seminars/651804899d05b96fc72b9474404fab330365ca09/seminar_02/pics/architecture.png)\n",
    "\n",
    "There are several ways to do it right. Shapes could be `x_batch.shape = (batch_size, 2*window_size)`, `y_batch.shape = (batch_size,)` for CBOW or `(batch_size,)`, `(batch_size,)` for Skip-Gram. You should **not** do negative sampling here.\n",
    "\n",
    "They should be adequately parametrized: CBOW(window_size, ...), SkipGram(window_size, ...). You should implement only one batcher in this task; and it's up to you which one to chose.\n",
    "\n",
    "Useful links:\n",
    "1. [Word2Vec Tutorial - The Skip-Gram Model](http://mccormickml.com/2016/04/19/word2vec-tutorial-the-skip-gram-model/)\n",
    "1. [Efficient Estimation of Word Representations in Vector Space](https://arxiv.org/pdf/1301.3781.pdf)\n",
    "1. [Distributed Representations of Words and Phrases and their Compositionality](http://papers.nips.cc/paper/5021-distributed-representations-of-words-and-phrases-and-their-compositionality.pdf)\n",
    "\n",
    "You can write the code in this notebook, or in a separate file. It can be reused for the next task. The result of your work should represent that your batch has a proper structure (right shapes) and content (words should be from one context, not some random indices). To show that, translate indices back to words and print them to show something like this:\n",
    "\n",
    "```\n",
    "text = ['first', 'used', 'against', 'early', 'working', 'class', 'radicals', 'including']\n",
    "\n",
    "window_size = 2\n",
    "\n",
    "# CBOW:\n",
    "indices_to_words(x_batch) = \\\n",
    "        [['first', 'used', 'early', 'working'],\n",
    "        ['used', 'against', 'working', 'class'],\n",
    "        ['against', 'early', 'class', 'radicals'],\n",
    "        ['early', 'working', 'radicals', 'including']]\n",
    "\n",
    "indices_to_words(labels_batch) = ['against', 'early', 'working', 'class']\n",
    "\n",
    "# Skip-Gram\n",
    "\n",
    "indices_to_words(x_batch) = ['against', 'early', 'working', 'class']\n",
    "\n",
    "indices_to_words(labels_batch) = ['used', 'working', 'early', 'radicals']]\n",
    "\n",
    "```\n",
    "\n",
    "If you struggle with something, ask your neighbor. If it is not obvious for you, probably someone else is looking for the answer too. And in contrast, if you see that you can help someone - do it! Good luck!"
   ]
  },
  {
   "cell_type": "code",
   "execution_count": 1,
   "metadata": {},
   "outputs": [],
   "source": [
    "import numpy as np\n",
    "from collections import Counter\n",
    "import itertools"
   ]
  },
  {
   "cell_type": "markdown",
   "metadata": {},
   "source": [
    "### CBOW:"
   ]
  },
  {
   "cell_type": "code",
   "execution_count": 26,
   "metadata": {},
   "outputs": [],
   "source": [
    "class CBOWBatcher:\n",
    "    def __init__(self, words):\n",
    "        self.words = words\n",
    "        self.vocab_size = len(words)\n",
    "        self.remaining_words = self.words\n",
    "    \n",
    "        self.index_words = []\n",
    "        self.word2index = dict()\n",
    "        self.index2word = dict()\n",
    "        \n",
    "    def delete_rare_words(self, min_frequency = 9):\n",
    "        words_count = Counter(self.words)\n",
    "        \n",
    "        sorted_words_count = sorted(words_count.items(), key=lambda pair: pair[1], reverse=True)\n",
    "\n",
    "        # choose words with frequency > min_frequency\n",
    "        mask = list(map(lambda x: x[1] > min_frequency, sorted_words_count))\n",
    "        sorted_words_count = np.array(sorted_words_count)[mask]\n",
    "\n",
    "        # add __unk__\n",
    "        remaining_words = list(map(lambda x: x[0], sorted_words_count))\n",
    "        remaining_words.append(\"__unk__\")\n",
    "        self.remaining_words = remaining_words\n",
    "        self.vocab_size = len(remaining_words)\n",
    "    \n",
    "    def create_indexing(self):\n",
    "        # numericalization\n",
    "        numbers = np.arange(len(self.remaining_words))\n",
    "\n",
    "        self.word2index = dict(zip(self.remaining_words, numbers))\n",
    "        self.index2word = dict(zip(numbers, self.remaining_words))\n",
    "        # __unk__\n",
    "        for word in self.words:\n",
    "            if word in self.word2index:\n",
    "                self.index_words.append(self.word2index[word])\n",
    "            else:\n",
    "                self.index_words.append(self.word2index[\"__unk__\"])\n",
    "        \n",
    "    def CBOW(self, batch_size = 4, window_size = 2):\n",
    "        x_batches = []\n",
    "        labels_batches = [] \n",
    "        \n",
    "        for i in np.arange(window_size, len(self.index_words) - window_size):\n",
    "            labels_batches.append(self.index_words[i])\n",
    "            temp_list = self.index_words[i - window_size: i] + self.index_words[i+1: i+window_size+1]\n",
    "            x_batches.append(temp_list)\n",
    "        \n",
    "        x_batches = np.array(x_batches)\n",
    "        labels_batches = np.array(labels_batches)\n",
    "        \n",
    "        if labels_batches.shape[0]%batch_size != 0:\n",
    "            raise Exception(\"Incorrect batch_size: {}\".format(batch_size))\n",
    "        \n",
    "        x_batches = x_batches.reshape(-1, batch_size, 2*window_size)\n",
    "        labels_batches = labels_batches.reshape(-1, batch_size,)\n",
    "        \n",
    "        return x_batches, labels_batches\n",
    "    \n",
    "    def indices_to_words(self, batch):\n",
    "        words_batch = []\n",
    "        shape = np.array(batch).shape\n",
    "        batch_flatten = np.array(batch).flatten()\n",
    "        \n",
    "        for i in batch_flatten:\n",
    "            if i in self.index2word:\n",
    "                words_batch.append(self.index2word[i])\n",
    "            else:\n",
    "                raise Exception(\"Incorrect numericalization: {} in {}\".format(i, batch))\n",
    "                \n",
    "        words_batch = np.array(words_batch).reshape(shape)\n",
    "        return words_batch"
   ]
  },
  {
   "cell_type": "code",
   "execution_count": 38,
   "metadata": {},
   "outputs": [],
   "source": [
    "text_file = open(\"text8\", \"r\")\n",
    "words = text_file.read().split(' ')\n",
    "test = words[:100000]\n",
    "\n",
    "batcher = CBOWBatcher(test)\n",
    "batcher.delete_rare_words(2)\n",
    "batcher.create_indexing()\n",
    "y = batcher.CBOW(batch_size = 4)"
   ]
  },
  {
   "cell_type": "code",
   "execution_count": 45,
   "metadata": {},
   "outputs": [
    {
     "name": "stdout",
     "output_type": "stream",
     "text": [
      "x_batches:  (24999, 4, 4)\n",
      "label_batches:  (24999, 4)\n"
     ]
    }
   ],
   "source": [
    "print(\"x_batches: \", y[0].shape)\n",
    "print(\"label_batches: \", y[1].shape)"
   ]
  },
  {
   "cell_type": "markdown",
   "metadata": {},
   "source": [
    "The first dimension is a number of batches."
   ]
  },
  {
   "cell_type": "code",
   "execution_count": 40,
   "metadata": {},
   "outputs": [
    {
     "name": "stdout",
     "output_type": "stream",
     "text": [
      "x_batch: \n",
      "[[  65  104  124  450]\n",
      " [ 104  216  450  583]\n",
      " [ 216  124  583 4214]\n",
      " [ 124  450 4214  137]]\n",
      "[['first' 'used' 'early' 'working']\n",
      " ['used' 'against' 'working' 'class']\n",
      " ['against' 'early' 'class' '__unk__']\n",
      " ['early' 'working' '__unk__' 'including']]\n",
      "\n",
      "label_batch: \n",
      "[216 124 450 583]\n",
      "['against' 'early' 'working' 'class']\n",
      "\n"
     ]
    }
   ],
   "source": [
    "x_batch = y[0][2]\n",
    "label_batch = y[1][2]\n",
    "print(\"x_batch: \\n{}\\n{}\\n\".format(x_batch, batcher.indices_to_words(x_batch)))\n",
    "print(\"label_batch: \\n{}\\n{}\\n\".format(label_batch, batcher.indices_to_words(label_batch)))"
   ]
  },
  {
   "cell_type": "code",
   "execution_count": 84,
   "metadata": {},
   "outputs": [
    {
     "data": {
      "text/plain": [
       "10"
      ]
     },
     "execution_count": 84,
     "metadata": {},
     "output_type": "execute_result"
    }
   ],
   "source": [
    "import gc\n",
    "gc.collect()"
   ]
  },
  {
   "cell_type": "markdown",
   "metadata": {},
   "source": [
    "#### Conclusion: \n",
    "\n",
    "everything seems working."
   ]
  },
  {
   "cell_type": "code",
   "execution_count": null,
   "metadata": {},
   "outputs": [],
   "source": []
  }
 ],
 "metadata": {
  "kernelspec": {
   "display_name": "Python 3",
   "language": "python",
   "name": "python3"
  },
  "language_info": {
   "codemirror_mode": {
    "name": "ipython",
    "version": 3
   },
   "file_extension": ".py",
   "mimetype": "text/x-python",
   "name": "python",
   "nbconvert_exporter": "python",
   "pygments_lexer": "ipython3",
   "version": "3.6.8"
  }
 },
 "nbformat": 4,
 "nbformat_minor": 2
}
