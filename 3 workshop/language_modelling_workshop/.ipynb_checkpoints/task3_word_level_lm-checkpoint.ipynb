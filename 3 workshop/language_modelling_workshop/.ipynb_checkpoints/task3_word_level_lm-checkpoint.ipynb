{
 "cells": [
  {
   "cell_type": "markdown",
   "metadata": {},
   "source": [
    "## Word-level language model\n",
    "\n",
    "In the previous tasks you have written character-level language model. Time has come to grow up.\n",
    "\n",
    "Word language models face a lot of new problems for you to solve. There are some of them:\n",
    "  * How to read long texts (Gbs of data)\n",
    "  * How to build vocabulry (and to effectively reduce its size)\n",
    "  * How to deal with out-of-vocabulary (OOV) words\n",
    "  * How to construct batch of _uncorrelated_ examples (not from the same text)\n",
    "  * How and when to drop RNN state\n",
    "  * What special tokens should be used? BOS? EOS?\n",
    "\n",
    "**Results of this task:**\n",
    "  * Text preprocessing\n",
    "  * Batcher\n",
    "  * Trained language model:\n",
    "    * model should use truncated backpropagation through time\n",
    "    * model should drop RNN state between different documents (eg. wikipedia articles)\n",
    "  * Test set perplexity\n",
    "\n",
    "**Additional points:**\n",
    "  * Text preprocessing and batching that works with large files (does not load all the file to memory)\n",
    "  * AWD-LSTM or other uncommon RNN architectures (SRU, QRNN)\n",
    "  * Use popular dataset \n",
    "\n",
    "It is becoming common to use [byte-pair encoding](https://github.com/google/sentencepiece) to solve vocabulary problem. Use it! Here is an [example](https://github.com/google/sentencepiece/blob/master/python/sentencepiece_python_module_example.ipynb)."
   ]
  },
  {
   "cell_type": "code",
   "execution_count": 12,
   "metadata": {},
   "outputs": [],
   "source": [
    "import numpy as np\n",
    "import pandas as pd\n",
    "from tqdm import tqdm_notebook as tqdm\n",
    "\n",
    "import torch\n",
    "import torch.nn as nn\n",
    "from torch.autograd import Variable\n",
    "\n",
    "import matplotlib.pyplot as plt\n",
    "import scipy.stats as sps\n",
    "import string\n",
    "import sys\n",
    "\n",
    "import sentencepiece as spm\n",
    "import random"
   ]
  },
  {
   "cell_type": "code",
   "execution_count": 13,
   "metadata": {},
   "outputs": [],
   "source": [
    "class Vocabulary:\n",
    "    def __init__(self):\n",
    "        self.w2i = dict()\n",
    "        self.i2w = []\n",
    "    def add_a_word(self, word):\n",
    "        if word not in self.w2i:\n",
    "            idx = len(self.w2i)\n",
    "            self.w2i[word] = idx\n",
    "            self.i2w.append(word)\n",
    "    def get_an_idx(self, word):\n",
    "        if word in self.w2i:\n",
    "            return self.w2i[word]\n",
    "        else: \n",
    "            return self.w2i[\"unk\"]\n",
    "    def get_a_word(self, idx):\n",
    "        assert(idx < len(self.i2w))\n",
    "        return self.i2w[idx]"
   ]
  },
  {
   "cell_type": "code",
   "execution_count": 25,
   "metadata": {},
   "outputs": [],
   "source": [
    "def clean(line):\n",
    "    table = str.maketrans('', '', string.punctuation)\n",
    "    tokens = [w.translate(table) for w in line.split()]\n",
    "    tokens = [w for w in tokens if w.isalpha()]\n",
    "    tokens = [w.lower() for w in tokens]\n",
    "    return tokens"
   ]
  },
  {
   "cell_type": "code",
   "execution_count": 77,
   "metadata": {},
   "outputs": [],
   "source": [
    "class Corpus:\n",
    "    def __init__(self, path):\n",
    "        spm.SentencePieceTrainer.train('--input={} --model_prefix=m --user_defined_symbols=<s>,</s>,unk --vocab_size=2000'.format(path))\n",
    "\n",
    "        self.sp = spm.SentencePieceProcessor()\n",
    "        self.sp.load('m.model')\n",
    "        \n",
    "    def encode_file(self, file_path):\n",
    "        f = open(file_path, \"r\")\n",
    "        encoded = list()\n",
    "        for line in f:\n",
    "            tokens = clean(line)\n",
    "            new_line = ' '.join(tokens)\n",
    "            new_line = '<s>' + new_line + '</s>'\n",
    "            temp = self.sp.encode_as_ids(new_line)\n",
    "            encoded += temp\n",
    "        return np.array(encoded);"
   ]
  },
  {
   "cell_type": "code",
   "execution_count": 78,
   "metadata": {},
   "outputs": [],
   "source": [
    "corpus = Corpus('wiki.train.tokens')"
   ]
  },
  {
   "cell_type": "code",
   "execution_count": 91,
   "metadata": {},
   "outputs": [],
   "source": [
    "valid_data = corpus.encode_file('wiki.valid.tokens')\n",
    "train_data = corpus.encode_file('wiki.train.tokens')\n",
    "test_data = corpus.encode_file('wiki.test.tokens')"
   ]
  },
  {
   "cell_type": "code",
   "execution_count": 62,
   "metadata": {},
   "outputs": [
    {
     "name": "stdout",
     "output_type": "stream",
     "text": [
      "Размер словаря:  5000\n"
     ]
    }
   ],
   "source": [
    "print(\"Размер словаря: \", corpus.sp.get_piece_size())"
   ]
  },
  {
   "cell_type": "code",
   "execution_count": 94,
   "metadata": {},
   "outputs": [],
   "source": [
    "class RNN(nn.Module):\n",
    "    def __init__(self, vocab_size, emb_size, hidden_size, batch_size, sequence_size):\n",
    "        super(RNN, self).__init__()\n",
    "        self.hidden_size = (sequence_size, batch_size, hidden_size)\n",
    "        self.embedding = nn.Embedding(vocab_size, emb_size)\n",
    "        \n",
    "        self.i2h = nn.Linear(emb_size + hidden_size, hidden_size)\n",
    "        self.i2o = nn.Linear(emb_size + hidden_size, vocab_size)\n",
    "        self.o2o = nn.Linear(hidden_size + vocab_size, vocab_size)\n",
    "        \n",
    "        self.drop = nn.Dropout()\n",
    "        \n",
    "        self.softmax = nn.LogSoftmax(dim=1)\n",
    "\n",
    "    def forward(self, input, hidden):\n",
    "        emb = self.embedding(input)\n",
    "        input_combined = torch.cat((emb, hidden), 2)\n",
    "        \n",
    "        hidden = self.i2h(input_combined)\n",
    "        output = self.i2o(input_combined)\n",
    "        output_combined = torch.cat((hidden, output), 2)\n",
    "        \n",
    "        output = self.o2o(output_combined)\n",
    "        output = output[:-1]\n",
    "        output = output.reshape(-1, output.shape[2])\n",
    "        output = self.drop(output)\n",
    "        output = self.softmax(output)\n",
    "        return output, hidden\n",
    "\n",
    "    def initHidden(self):\n",
    "        hidden = torch.zeros(self.hidden_size)\n",
    "        return torch.nn.init.xavier_uniform_(hidden)"
   ]
  },
  {
   "cell_type": "code",
   "execution_count": 95,
   "metadata": {},
   "outputs": [],
   "source": [
    "criterion = nn.NLLLoss()\n",
    "\n",
    "learning_rate = 1e-2\n",
    "\n",
    "def train(batch, target):\n",
    "    \n",
    "    hidden = rnn.initHidden()\n",
    "    rnn.zero_grad()\n",
    "\n",
    "    loss = 0\n",
    "    batch = torch.Tensor(batch).long()\n",
    "    target = torch.Tensor(target).long()\n",
    "    output, hidden = rnn(batch, hidden)\n",
    "    \n",
    "    loss = criterion(output, target)\n",
    "    loss.backward()\n",
    "\n",
    "    for p in rnn.parameters():\n",
    "        p.data.add_(-learning_rate, p.grad.data)\n",
    "        \n",
    "    return output, loss.item() / batch.shape[1]"
   ]
  },
  {
   "cell_type": "code",
   "execution_count": 96,
   "metadata": {},
   "outputs": [],
   "source": [
    "def batcher(data, sequence_size = 60, batch_size = 5):\n",
    "    data = np.array(data).T\n",
    "    num_of_sequences = int(data.shape[0]//sequence_size)\n",
    "    num_of_sequences = num_of_sequences//batch_size\n",
    "    data = data[:num_of_sequences*sequence_size*batch_size]\n",
    "    data = data.reshape(batch_size, num_of_sequences*sequence_size).T\n",
    "    data = data.reshape(num_of_sequences, sequence_size, batch_size)\n",
    "    data = list(data)\n",
    "    random.shuffle(data)\n",
    "    data = np.array(data)\n",
    "    \n",
    "    \n",
    "    target = data.copy()[:, 1:, :]\n",
    "    target = target.reshape(num_of_sequences, -1)\n",
    "    return data, target"
   ]
  },
  {
   "cell_type": "code",
   "execution_count": 97,
   "metadata": {},
   "outputs": [
    {
     "data": {
      "text/plain": [
       "1062"
      ]
     },
     "execution_count": 97,
     "metadata": {},
     "output_type": "execute_result"
    }
   ],
   "source": [
    "import gc\n",
    "gc.collect()"
   ]
  },
  {
   "cell_type": "code",
   "execution_count": 100,
   "metadata": {},
   "outputs": [
    {
     "data": {
      "application/vnd.jupyter.widget-view+json": {
       "model_id": "44e606cc93a5416b9bcb0821a5126db5",
       "version_major": 2,
       "version_minor": 0
      },
      "text/plain": [
       "HBox(children=(IntProgress(value=0, max=6522), HTML(value='')))"
      ]
     },
     "metadata": {},
     "output_type": "display_data"
    },
    {
     "name": "stdout",
     "output_type": "stream",
     "text": [
      "(0 0%) 0.4795\n",
      "(326 4%) 0.4251\n",
      "(652 9%) 0.4305\n",
      "(978 14%) 0.4143\n",
      "(1304 19%) 0.4238\n",
      "(1630 24%) 0.4139\n",
      "(1956 29%) 0.4255\n",
      "(2282 34%) 0.4114\n",
      "(2608 39%) 0.4141\n",
      "(2934 44%) 0.3982\n",
      "(3260 49%) 0.3999\n",
      "(3586 54%) 0.4023\n",
      "(3912 59%) 0.3995\n",
      "(4238 64%) 0.4161\n",
      "(4564 69%) 0.4127\n",
      "(4890 74%) 0.4036\n",
      "(5216 79%) 0.4126\n",
      "(5542 84%) 0.4114\n",
      "(5868 89%) 0.4065\n",
      "(6194 94%) 0.4121\n",
      "(6520 99%) 0.4033\n"
     ]
    },
    {
     "data": {
      "application/vnd.jupyter.widget-view+json": {
       "model_id": "e3553ca2868844a9872597e610fb8547",
       "version_major": 2,
       "version_minor": 0
      },
      "text/plain": [
       "HBox(children=(IntProgress(value=0, max=6522), HTML(value='')))"
      ]
     },
     "metadata": {},
     "output_type": "display_data"
    },
    {
     "name": "stdout",
     "output_type": "stream",
     "text": [
      "(0 0%) 0.4082\n",
      "(326 4%) 0.4086\n",
      "(652 9%) 0.4067\n",
      "(978 14%) 0.4133\n",
      "(1304 19%) 0.4031\n",
      "(1630 24%) 0.4050\n",
      "(1956 29%) 0.4020\n",
      "(2282 34%) 0.4126\n",
      "(2608 39%) 0.4007\n",
      "(2934 44%) 0.3863\n",
      "(3260 49%) 0.3940\n",
      "(3586 54%) 0.3928\n",
      "(3912 59%) 0.4070\n",
      "(4238 64%) 0.4047\n",
      "(4564 69%) 0.3997\n",
      "(4890 74%) 0.4187\n",
      "(5216 79%) 0.4078\n",
      "(5542 84%) 0.4051\n",
      "(5868 89%) 0.4067\n",
      "(6194 94%) 0.3986\n",
      "(6520 99%) 0.3977\n"
     ]
    },
    {
     "data": {
      "application/vnd.jupyter.widget-view+json": {
       "model_id": "d88d16bc1c7243b79ccb8bbbfbae55be",
       "version_major": 2,
       "version_minor": 0
      },
      "text/plain": [
       "HBox(children=(IntProgress(value=0, max=6522), HTML(value='')))"
      ]
     },
     "metadata": {},
     "output_type": "display_data"
    },
    {
     "name": "stdout",
     "output_type": "stream",
     "text": [
      "(0 0%) 0.4082\n",
      "(326 4%) 0.3990\n",
      "(652 9%) 0.4056\n",
      "(978 14%) 0.4007\n",
      "(1304 19%) 0.4064\n",
      "(1630 24%) 0.4094\n",
      "(1956 29%) 0.3965\n",
      "(2282 34%) 0.4002\n",
      "(2608 39%) 0.4007\n",
      "(2934 44%) 0.4103\n",
      "(3260 49%) 0.4044\n",
      "(3586 54%) 0.4055\n",
      "(3912 59%) 0.3875\n",
      "(4238 64%) 0.4108\n",
      "(4564 69%) 0.4058\n",
      "(4890 74%) 0.4098\n",
      "(5216 79%) 0.4060\n",
      "(5542 84%) 0.3955\n",
      "(5868 89%) 0.4113\n",
      "(6194 94%) 0.3923\n",
      "(6520 99%) 0.3875\n"
     ]
    },
    {
     "data": {
      "application/vnd.jupyter.widget-view+json": {
       "model_id": "dd0696de453b4526b8f7d6f9eabddbc1",
       "version_major": 2,
       "version_minor": 0
      },
      "text/plain": [
       "HBox(children=(IntProgress(value=0, max=6522), HTML(value='')))"
      ]
     },
     "metadata": {},
     "output_type": "display_data"
    },
    {
     "name": "stdout",
     "output_type": "stream",
     "text": [
      "(0 0%) 0.4072\n",
      "(326 4%) 0.3853\n",
      "(652 9%) 0.4080\n",
      "(978 14%) 0.3986\n",
      "(1304 19%) 0.3979\n",
      "(1630 24%) 0.3984\n",
      "(1956 29%) 0.3990\n",
      "(2282 34%) 0.4016\n",
      "(2608 39%) 0.4025\n",
      "(2934 44%) 0.3984\n",
      "(3260 49%) 0.4024\n",
      "(3586 54%) 0.4025\n",
      "(3912 59%) 0.4008\n",
      "(4238 64%) 0.4138\n",
      "(4564 69%) 0.4059\n",
      "(4890 74%) 0.3961\n",
      "(5216 79%) 0.4134\n",
      "(5542 84%) 0.3902\n",
      "(5868 89%) 0.4149\n",
      "(6194 94%) 0.3923\n",
      "(6520 99%) 0.3999\n"
     ]
    },
    {
     "data": {
      "application/vnd.jupyter.widget-view+json": {
       "model_id": "f688a593a37c406291e6f45d3508a5fa",
       "version_major": 2,
       "version_minor": 0
      },
      "text/plain": [
       "HBox(children=(IntProgress(value=0, max=6522), HTML(value='')))"
      ]
     },
     "metadata": {},
     "output_type": "display_data"
    },
    {
     "name": "stdout",
     "output_type": "stream",
     "text": [
      "(0 0%) 0.3948\n",
      "(326 4%) 0.3985\n",
      "(652 9%) 0.3998\n",
      "(978 14%) 0.3993\n",
      "(1304 19%) 0.3975\n",
      "(1630 24%) 0.4084\n",
      "(1956 29%) 0.3883\n",
      "(2282 34%) 0.3947\n",
      "(2608 39%) 0.4080\n",
      "(2934 44%) 0.4040\n",
      "(3260 49%) 0.4061\n",
      "(3586 54%) 0.3976\n",
      "(3912 59%) 0.3995\n",
      "(4238 64%) 0.3982\n",
      "(4564 69%) 0.4037\n",
      "(4890 74%) 0.4069\n",
      "(5216 79%) 0.3938\n",
      "(5542 84%) 0.4100\n",
      "(5868 89%) 0.3908\n",
      "(6194 94%) 0.3995\n",
      "(6520 99%) 0.4046\n"
     ]
    }
   ],
   "source": [
    "num_of_epoch = 5\n",
    "batch_size = 16\n",
    "sequence_size = 32\n",
    "\n",
    "vocab_size = corpus.sp.get_piece_size()\n",
    "\n",
    "rnn = RNN(vocab_size, 16, 32, batch_size, sequence_size)\n",
    "all_losses = []\n",
    "\n",
    "for _ in range(num_of_epoch):\n",
    "    b_train = batcher(train_data, sequence_size, batch_size)\n",
    "    n_batches = len(b_train[0])\n",
    "    print_every = n_batches//20\n",
    "    plot_every = n_batches//20\n",
    "    \n",
    "    for i in tqdm(range(n_batches)):\n",
    "        _, loss = train(b_train[0][i], b_train[1][i])\n",
    "\n",
    "        if i % print_every == 0:\n",
    "            print('(%d %d%%) %.4f' % (i, i / n_batches * 100, loss))\n",
    "\n",
    "        if i % plot_every == 0:\n",
    "            all_losses.append(loss)"
   ]
  },
  {
   "cell_type": "code",
   "execution_count": 106,
   "metadata": {},
   "outputs": [
    {
     "data": {
      "image/png": "[encoded data removed]",
      "text/plain": [
       "<Figure size 720x360 with 1 Axes>"
      ]
     },
     "metadata": {
      "needs_background": "light"
     },
     "output_type": "display_data"
    }
   ],
   "source": [
    "plt.figure(figsize = (10, 5))\n",
    "plt.title(\"Сходимость loss модели\")\n",
    "plt.ylabel(\"Loss\")\n",
    "plt.xlabel(\"Кол-во итераций\")\n",
    "plt.plot(all_losses)\n",
    "plt.show()"
   ]
  },
  {
   "cell_type": "markdown",
   "metadata": {},
   "source": [
    "### Перплексия модели на настроечной выборке:"
   ]
  },
  {
   "cell_type": "code",
   "execution_count": 102,
   "metadata": {},
   "outputs": [],
   "source": [
    "b_test = batcher(test_data, sequence_size, batch_size)"
   ]
  },
  {
   "cell_type": "code",
   "execution_count": 103,
   "metadata": {},
   "outputs": [
    {
     "data": {
      "text/plain": [
       "(738, 32, 16)"
      ]
     },
     "execution_count": 103,
     "metadata": {},
     "output_type": "execute_result"
    }
   ],
   "source": [
    "b_test[0].shape"
   ]
  },
  {
   "cell_type": "code",
   "execution_count": 111,
   "metadata": {},
   "outputs": [],
   "source": [
    "def test(b_test):\n",
    "    with torch.no_grad():\n",
    "        rnn.eval()\n",
    "        n_batches = len(b_test[0])\n",
    "        loss = 0\n",
    "        hidden = rnn.initHidden()\n",
    "        \n",
    "        for i in tqdm(range(n_batches)):\n",
    "            batch = b_test[0][i]\n",
    "            target = b_test[1][i]\n",
    "            \n",
    "            batch = torch.Tensor(batch).long()\n",
    "            target = torch.Tensor(target).long()\n",
    "            \n",
    "            output, hidden = rnn(batch, hidden)\n",
    "\n",
    "            loss += criterion(output, target) / batch.shape[1]\n",
    "\n",
    "        return loss / n_batches"
   ]
  },
  {
   "cell_type": "code",
   "execution_count": 112,
   "metadata": {},
   "outputs": [
    {
     "data": {
      "application/vnd.jupyter.widget-view+json": {
       "model_id": "4631ce7d6a904c23b60e625321908908",
       "version_major": 2,
       "version_minor": 0
      },
      "text/plain": [
       "HBox(children=(IntProgress(value=0, max=738), HTML(value='')))"
      ]
     },
     "metadata": {},
     "output_type": "display_data"
    },
    {
     "name": "stdout",
     "output_type": "stream",
     "text": [
      "Перплексия модели на настроечной выборке: 1.286025047302246\n"
     ]
    }
   ],
   "source": [
    "x = test(b_test)\n",
    "print(\"Перплексия модели на настроечной выборке:\", float(2**(x)))"
   ]
  }
 ],
 "metadata": {
  "kernelspec": {
   "display_name": "Python 3",
   "language": "python",
   "name": "python3"
  },
  "language_info": {
   "codemirror_mode": {
    "name": "ipython",
    "version": 3
   },
   "file_extension": ".py",
   "mimetype": "text/x-python",
   "name": "python",
   "nbconvert_exporter": "python",
   "pygments_lexer": "ipython3",
   "version": "3.7.3"
  }
 },
 "nbformat": 4,
 "nbformat_minor": 2
}
